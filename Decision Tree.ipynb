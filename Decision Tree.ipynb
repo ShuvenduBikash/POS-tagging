{
 "cells": [
  {
   "cell_type": "code",
   "execution_count": 1,
   "metadata": {},
   "outputs": [
    {
     "name": "stdout",
     "output_type": "stream",
     "text": [
      "[('Pierre', 'NNP'), ('Vinken', 'NNP'), (',', ','), ('61', 'CD'), ('years', 'NNS'), ('old', 'JJ'), (',', ','), ('will', 'MD'), ('join', 'VB'), ('the', 'DT'), ('board', 'NN'), ('as', 'IN'), ('a', 'DT'), ('nonexecutive', 'JJ'), ('director', 'NN'), ('Nov.', 'NNP'), ('29', 'CD'), ('.', '.')]\n",
      "Tagged sentences:  3914\n",
      "Tagged words: 100676\n"
     ]
    }
   ],
   "source": [
    "import nltk\n",
    "tagged_sentences = nltk.corpus.treebank.tagged_sents()\n",
    " \n",
    "print(tagged_sentences[0])\n",
    "print(\"Tagged sentences: \", len(tagged_sentences))\n",
    "print(\"Tagged words:\", len(nltk.corpus.treebank.tagged_words()))"
   ]
  },
  {
   "cell_type": "markdown",
   "metadata": {},
   "source": [
    "### Feature selection and preprocesstion"
   ]
  },
  {
   "cell_type": "code",
   "execution_count": 2,
   "metadata": {},
   "outputs": [
    {
     "name": "stdout",
     "output_type": "stream",
     "text": [
      "{'capitals_inside': False,\n",
      " 'has_hyphen': False,\n",
      " 'is_all_caps': False,\n",
      " 'is_all_lower': True,\n",
      " 'is_capitalized': False,\n",
      " 'is_first': False,\n",
      " 'is_last': False,\n",
      " 'is_numeric': False,\n",
      " 'next_word': 'sentence',\n",
      " 'prefix-1': 'a',\n",
      " 'prefix-2': 'a',\n",
      " 'prefix-3': 'a',\n",
      " 'prev_word': 'is',\n",
      " 'suffix-1': 'a',\n",
      " 'suffix-2': 'a',\n",
      " 'suffix-3': 'a',\n",
      " 'word': 'a'}\n"
     ]
    }
   ],
   "source": [
    "def features(sentence, index):\n",
    "    \"\"\" sentence: [w1, w2, ...], index: the index of the word \"\"\"\n",
    "    return {\n",
    "        'word': sentence[index],\n",
    "        'is_first': index == 0,\n",
    "        'is_last': index == len(sentence) - 1,\n",
    "        'is_capitalized': sentence[index][0].upper() == sentence[index][0],\n",
    "        'is_all_caps': sentence[index].upper() == sentence[index],\n",
    "        'is_all_lower': sentence[index].lower() == sentence[index],\n",
    "        'prefix-1': sentence[index][0],\n",
    "        'prefix-2': sentence[index][:2],\n",
    "        'prefix-3': sentence[index][:3],\n",
    "        'suffix-1': sentence[index][-1],\n",
    "        'suffix-2': sentence[index][-2:],\n",
    "        'suffix-3': sentence[index][-3:],\n",
    "        'prev_word': '' if index == 0 else sentence[index - 1],\n",
    "        'next_word': '' if index == len(sentence) - 1 else sentence[index + 1],\n",
    "        'has_hyphen': '-' in sentence[index],\n",
    "        'is_numeric': sentence[index].isdigit(),\n",
    "        'capitals_inside': sentence[index][1:].lower() != sentence[index][1:]\n",
    "    }\n",
    " \n",
    "import pprint \n",
    "pprint.pprint(features(['This', 'is', 'a', 'sentence'], 2))"
   ]
  },
  {
   "cell_type": "code",
   "execution_count": 3,
   "metadata": {},
   "outputs": [],
   "source": [
    "def untag(tagged_sentence):\n",
    "    return [w for w, t in tagged_sentence]"
   ]
  },
  {
   "cell_type": "code",
   "execution_count": 4,
   "metadata": {},
   "outputs": [
    {
     "name": "stdout",
     "output_type": "stream",
     "text": [
      "2935\n",
      "979\n"
     ]
    }
   ],
   "source": [
    "cutoff = int(.75 * len(tagged_sentences))\n",
    "training_sentences = tagged_sentences[:cutoff]\n",
    "test_sentences = tagged_sentences[cutoff:]\n",
    " \n",
    "print(len(training_sentences))   # 2935\n",
    "print(len(test_sentences))         # 979\n",
    " \n",
    "def transform_to_dataset(tagged_sentences):\n",
    "    X, y = [], []\n",
    " \n",
    "    for tagged in tagged_sentences:\n",
    "        for index in range(len(tagged)):\n",
    "            X.append(features(untag(tagged), index))\n",
    "            y.append(tagged[index][1])\n",
    " \n",
    "    return X, y\n",
    " \n",
    "X, y = transform_to_dataset(training_sentences)"
   ]
  },
  {
   "cell_type": "code",
   "execution_count": 5,
   "metadata": {},
   "outputs": [
    {
     "name": "stdout",
     "output_type": "stream",
     "text": [
      "<class 'list'>\n",
      "75784\n"
     ]
    }
   ],
   "source": [
    "print(type(X))\n",
    "print(len(X))"
   ]
  },
  {
   "cell_type": "code",
   "execution_count": 6,
   "metadata": {},
   "outputs": [
    {
     "name": "stdout",
     "output_type": "stream",
     "text": [
      "Accuracy: 0.9165997107504419\n"
     ]
    }
   ],
   "source": [
    "from sklearn.tree import DecisionTreeClassifier\n",
    "from sklearn.feature_extraction import DictVectorizer\n",
    "from sklearn.pipeline import Pipeline\n",
    " \n",
    "clf = Pipeline([\n",
    "    ('vectorizer', DictVectorizer(sparse=False)),\n",
    "    ('classifier', DecisionTreeClassifier(criterion='entropy'))\n",
    "])\n",
    " \n",
    "clf.fit(X[:20000], y[:20000])   # Use only the first 10K samples if you're running it multiple times. It takes a fair bit :)\n",
    " \n",
    "X_test, y_test = transform_to_dataset(test_sentences)\n",
    " \n",
    "print(\"Accuracy:\", clf.score(X_test, y_test))"
   ]
  },
  {
   "cell_type": "markdown",
   "metadata": {},
   "source": [
    "## Prediction testing"
   ]
  },
  {
   "cell_type": "code",
   "execution_count": 9,
   "metadata": {},
   "outputs": [
    {
     "data": {
      "text/plain": [
       "{'word': 'Pierre',\n",
       " 'is_first': True,\n",
       " 'is_last': False,\n",
       " 'is_capitalized': True,\n",
       " 'is_all_caps': False,\n",
       " 'is_all_lower': False,\n",
       " 'prefix-1': 'P',\n",
       " 'prefix-2': 'Pi',\n",
       " 'prefix-3': 'Pie',\n",
       " 'suffix-1': 'e',\n",
       " 'suffix-2': 're',\n",
       " 'suffix-3': 'rre',\n",
       " 'prev_word': '',\n",
       " 'next_word': 'Vinken',\n",
       " 'has_hyphen': False,\n",
       " 'is_numeric': False,\n",
       " 'capitals_inside': False}"
      ]
     },
     "execution_count": 9,
     "metadata": {},
     "output_type": "execute_result"
    }
   ],
   "source": [
    "X[0]"
   ]
  },
  {
   "cell_type": "code",
   "execution_count": 10,
   "metadata": {},
   "outputs": [
    {
     "data": {
      "text/plain": [
       "'NNP'"
      ]
     },
     "execution_count": 10,
     "metadata": {},
     "output_type": "execute_result"
    }
   ],
   "source": [
    "y[0]"
   ]
  },
  {
   "cell_type": "code",
   "execution_count": 11,
   "metadata": {},
   "outputs": [
    {
     "data": {
      "text/plain": [
       "array(['NNP'], dtype='<U6')"
      ]
     },
     "execution_count": 11,
     "metadata": {},
     "output_type": "execute_result"
    }
   ],
   "source": [
    "clf.predict(X[0])"
   ]
  },
  {
   "cell_type": "code",
   "execution_count": 12,
   "metadata": {},
   "outputs": [],
   "source": [
    "def process_test_sentence(sentence):\n",
    "    X = []\n",
    " \n",
    "    for s in sentence:\n",
    "        for index in range(len(s)):\n",
    "            X.append(features(s, index))\n",
    "\n",
    "    return X"
   ]
  },
  {
   "cell_type": "code",
   "execution_count": 19,
   "metadata": {},
   "outputs": [
    {
     "data": {
      "text/plain": [
       "[{'word': 'this',\n",
       "  'is_first': True,\n",
       "  'is_last': False,\n",
       "  'is_capitalized': False,\n",
       "  'is_all_caps': False,\n",
       "  'is_all_lower': True,\n",
       "  'prefix-1': 't',\n",
       "  'prefix-2': 'th',\n",
       "  'prefix-3': 'thi',\n",
       "  'suffix-1': 's',\n",
       "  'suffix-2': 'is',\n",
       "  'suffix-3': 'his',\n",
       "  'prev_word': '',\n",
       "  'next_word': 'is',\n",
       "  'has_hyphen': False,\n",
       "  'is_numeric': False,\n",
       "  'capitals_inside': False},\n",
       " {'word': 'is',\n",
       "  'is_first': False,\n",
       "  'is_last': False,\n",
       "  'is_capitalized': False,\n",
       "  'is_all_caps': False,\n",
       "  'is_all_lower': True,\n",
       "  'prefix-1': 'i',\n",
       "  'prefix-2': 'is',\n",
       "  'prefix-3': 'is',\n",
       "  'suffix-1': 's',\n",
       "  'suffix-2': 'is',\n",
       "  'suffix-3': 'is',\n",
       "  'prev_word': 'this',\n",
       "  'next_word': 'a',\n",
       "  'has_hyphen': False,\n",
       "  'is_numeric': False,\n",
       "  'capitals_inside': False},\n",
       " {'word': 'a',\n",
       "  'is_first': False,\n",
       "  'is_last': False,\n",
       "  'is_capitalized': False,\n",
       "  'is_all_caps': False,\n",
       "  'is_all_lower': True,\n",
       "  'prefix-1': 'a',\n",
       "  'prefix-2': 'a',\n",
       "  'prefix-3': 'a',\n",
       "  'suffix-1': 'a',\n",
       "  'suffix-2': 'a',\n",
       "  'suffix-3': 'a',\n",
       "  'prev_word': 'is',\n",
       "  'next_word': 'cat',\n",
       "  'has_hyphen': False,\n",
       "  'is_numeric': False,\n",
       "  'capitals_inside': False},\n",
       " {'word': 'cat',\n",
       "  'is_first': False,\n",
       "  'is_last': True,\n",
       "  'is_capitalized': False,\n",
       "  'is_all_caps': False,\n",
       "  'is_all_lower': True,\n",
       "  'prefix-1': 'c',\n",
       "  'prefix-2': 'ca',\n",
       "  'prefix-3': 'cat',\n",
       "  'suffix-1': 't',\n",
       "  'suffix-2': 'at',\n",
       "  'suffix-3': 'cat',\n",
       "  'prev_word': 'a',\n",
       "  'next_word': '',\n",
       "  'has_hyphen': False,\n",
       "  'is_numeric': False,\n",
       "  'capitals_inside': False}]"
      ]
     },
     "execution_count": 19,
     "metadata": {},
     "output_type": "execute_result"
    }
   ],
   "source": [
    "test_sentence = process_test_sentence([[\"this\", \"is\", \"a\", \"cat\"]])\n",
    "test_sentence"
   ]
  },
  {
   "cell_type": "code",
   "execution_count": 21,
   "metadata": {},
   "outputs": [
    {
     "data": {
      "text/plain": [
       "array(['VBZ'], dtype='<U6')"
      ]
     },
     "execution_count": 21,
     "metadata": {},
     "output_type": "execute_result"
    }
   ],
   "source": [
    "clf.predict(test_sentence[0])"
   ]
  },
  {
   "cell_type": "markdown",
   "metadata": {},
   "source": [
    "# Predict "
   ]
  },
  {
   "cell_type": "code",
   "execution_count": 37,
   "metadata": {},
   "outputs": [],
   "source": [
    "def predict(test_sentence):\n",
    "    X = []\n",
    "    words = test_sentence.split(\" \")\n",
    "    X.append(words)\n",
    "    \n",
    "    test_sentence = process_test_sentence(X)\n",
    "    \n",
    "    for x in test_sentence:\n",
    "        print(x['word'], clf.predict(x))"
   ]
  },
  {
   "cell_type": "code",
   "execution_count": 38,
   "metadata": {},
   "outputs": [
    {
     "name": "stdout",
     "output_type": "stream",
     "text": [
      "this ['DT']\n",
      "is ['VBZ']\n",
      "a ['DT']\n",
      "cat ['NN']\n"
     ]
    }
   ],
   "source": [
    "predict(\"this is a cat\")"
   ]
  },
  {
   "cell_type": "code",
   "execution_count": null,
   "metadata": {},
   "outputs": [],
   "source": []
  }
 ],
 "metadata": {
  "kernelspec": {
   "display_name": "Python 3",
   "language": "python",
   "name": "python3"
  },
  "language_info": {
   "codemirror_mode": {
    "name": "ipython",
    "version": 3
   },
   "file_extension": ".py",
   "mimetype": "text/x-python",
   "name": "python",
   "nbconvert_exporter": "python",
   "pygments_lexer": "ipython3",
   "version": "3.7.2"
  }
 },
 "nbformat": 4,
 "nbformat_minor": 2
}
